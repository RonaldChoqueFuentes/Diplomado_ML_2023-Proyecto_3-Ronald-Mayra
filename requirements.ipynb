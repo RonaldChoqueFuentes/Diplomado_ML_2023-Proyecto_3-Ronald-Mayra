{
 "cells": [
  {
   "cell_type": "code",
   "execution_count": 1,
   "id": "17a85dbd",
   "metadata": {},
   "outputs": [
    {
     "name": "stdout",
     "output_type": "stream",
     "text": [
      "Defaulting to user installation because normal site-packages is not writeable\n",
      "Requirement already satisfied: azure-ai-contentsafety in c:\\users\\ronald choque\\appdata\\roaming\\python\\python310\\site-packages (1.0.0b1)\n",
      "Requirement already satisfied: isodate<1.0.0,>=0.6.1 in c:\\users\\ronald choque\\appdata\\roaming\\python\\python310\\site-packages (from azure-ai-contentsafety) (0.6.1)\n",
      "Requirement already satisfied: azure-core<2.0.0,>=1.24.0 in c:\\users\\ronald choque\\appdata\\roaming\\python\\python310\\site-packages (from azure-ai-contentsafety) (1.29.5)\n",
      "Requirement already satisfied: requests>=2.18.4 in c:\\users\\ronald choque\\appdata\\roaming\\python\\python310\\site-packages (from azure-core<2.0.0,>=1.24.0->azure-ai-contentsafety) (2.26.0)\n",
      "Requirement already satisfied: six>=1.11.0 in c:\\users\\ronald choque\\appdata\\roaming\\python\\python310\\site-packages (from azure-core<2.0.0,>=1.24.0->azure-ai-contentsafety) (1.16.0)\n",
      "Requirement already satisfied: typing-extensions>=4.6.0 in c:\\users\\ronald choque\\appdata\\roaming\\python\\python310\\site-packages (from azure-core<2.0.0,>=1.24.0->azure-ai-contentsafety) (4.8.0)\n",
      "Requirement already satisfied: urllib3<1.27,>=1.21.1 in c:\\users\\ronald choque\\appdata\\roaming\\python\\python310\\site-packages (from requests>=2.18.4->azure-core<2.0.0,>=1.24.0->azure-ai-contentsafety) (1.26.7)\n",
      "Requirement already satisfied: certifi>=2017.4.17 in c:\\users\\ronald choque\\appdata\\roaming\\python\\python310\\site-packages (from requests>=2.18.4->azure-core<2.0.0,>=1.24.0->azure-ai-contentsafety) (2021.10.8)\n",
      "Requirement already satisfied: charset-normalizer~=2.0.0 in c:\\users\\ronald choque\\appdata\\roaming\\python\\python310\\site-packages (from requests>=2.18.4->azure-core<2.0.0,>=1.24.0->azure-ai-contentsafety) (2.0.9)\n",
      "Requirement already satisfied: idna<4,>=2.5 in c:\\users\\ronald choque\\appdata\\roaming\\python\\python310\\site-packages (from requests>=2.18.4->azure-core<2.0.0,>=1.24.0->azure-ai-contentsafety) (3.3)\n"
     ]
    },
    {
     "name": "stderr",
     "output_type": "stream",
     "text": [
      "\n",
      "[notice] A new release of pip is available: 23.2.1 -> 23.3.1\n",
      "[notice] To update, run: python.exe -m pip install --upgrade pip\n"
     ]
    }
   ],
   "source": [
    "!pip install azure-ai-contentsafety"
   ]
  },
  {
   "cell_type": "code",
   "execution_count": 2,
   "id": "37eae210",
   "metadata": {},
   "outputs": [
    {
     "name": "stdout",
     "output_type": "stream",
     "text": [
      "Defaulting to user installation because normal site-packages is not writeable\n",
      "Requirement already satisfied: azure-ai-textanalytics==5.3.0 in c:\\users\\ronald choque\\appdata\\roaming\\python\\python310\\site-packages (5.3.0)\n",
      "Requirement already satisfied: azure-core<2.0.0,>=1.24.0 in c:\\users\\ronald choque\\appdata\\roaming\\python\\python310\\site-packages (from azure-ai-textanalytics==5.3.0) (1.29.5)\n",
      "Requirement already satisfied: azure-common~=1.1 in c:\\users\\ronald choque\\appdata\\roaming\\python\\python310\\site-packages (from azure-ai-textanalytics==5.3.0) (1.1.28)\n",
      "Requirement already satisfied: isodate<1.0.0,>=0.6.1 in c:\\users\\ronald choque\\appdata\\roaming\\python\\python310\\site-packages (from azure-ai-textanalytics==5.3.0) (0.6.1)\n",
      "Requirement already satisfied: typing-extensions>=4.0.1 in c:\\users\\ronald choque\\appdata\\roaming\\python\\python310\\site-packages (from azure-ai-textanalytics==5.3.0) (4.8.0)\n",
      "Requirement already satisfied: requests>=2.18.4 in c:\\users\\ronald choque\\appdata\\roaming\\python\\python310\\site-packages (from azure-core<2.0.0,>=1.24.0->azure-ai-textanalytics==5.3.0) (2.26.0)\n",
      "Requirement already satisfied: six>=1.11.0 in c:\\users\\ronald choque\\appdata\\roaming\\python\\python310\\site-packages (from azure-core<2.0.0,>=1.24.0->azure-ai-textanalytics==5.3.0) (1.16.0)\n",
      "Requirement already satisfied: urllib3<1.27,>=1.21.1 in c:\\users\\ronald choque\\appdata\\roaming\\python\\python310\\site-packages (from requests>=2.18.4->azure-core<2.0.0,>=1.24.0->azure-ai-textanalytics==5.3.0) (1.26.7)\n",
      "Requirement already satisfied: certifi>=2017.4.17 in c:\\users\\ronald choque\\appdata\\roaming\\python\\python310\\site-packages (from requests>=2.18.4->azure-core<2.0.0,>=1.24.0->azure-ai-textanalytics==5.3.0) (2021.10.8)\n",
      "Requirement already satisfied: charset-normalizer~=2.0.0 in c:\\users\\ronald choque\\appdata\\roaming\\python\\python310\\site-packages (from requests>=2.18.4->azure-core<2.0.0,>=1.24.0->azure-ai-textanalytics==5.3.0) (2.0.9)\n",
      "Requirement already satisfied: idna<4,>=2.5 in c:\\users\\ronald choque\\appdata\\roaming\\python\\python310\\site-packages (from requests>=2.18.4->azure-core<2.0.0,>=1.24.0->azure-ai-textanalytics==5.3.0) (3.3)\n"
     ]
    },
    {
     "name": "stderr",
     "output_type": "stream",
     "text": [
      "\n",
      "[notice] A new release of pip is available: 23.2.1 -> 23.3.1\n",
      "[notice] To update, run: python.exe -m pip install --upgrade pip\n"
     ]
    }
   ],
   "source": [
    "!pip install azure-ai-textanalytics==5.3.0"
   ]
  },
  {
   "cell_type": "code",
   "execution_count": 3,
   "id": "6134b6c9",
   "metadata": {},
   "outputs": [
    {
     "name": "stdout",
     "output_type": "stream",
     "text": [
      "Defaulting to user installation because normal site-packages is not writeable\n",
      "Requirement already satisfied: azure-cognitiveservices-speech in c:\\users\\ronald choque\\appdata\\roaming\\python\\python310\\site-packages (1.32.1)\n"
     ]
    },
    {
     "name": "stderr",
     "output_type": "stream",
     "text": [
      "\n",
      "[notice] A new release of pip is available: 23.2.1 -> 23.3.1\n",
      "[notice] To update, run: python.exe -m pip install --upgrade pip\n"
     ]
    }
   ],
   "source": [
    "!pip install azure-cognitiveservices-speech"
   ]
  },
  {
   "cell_type": "code",
   "execution_count": null,
   "id": "c6220651",
   "metadata": {},
   "outputs": [],
   "source": []
  }
 ],
 "metadata": {
  "kernelspec": {
   "display_name": "Python 3 (ipykernel)",
   "language": "python",
   "name": "python3"
  },
  "language_info": {
   "codemirror_mode": {
    "name": "ipython",
    "version": 3
   },
   "file_extension": ".py",
   "mimetype": "text/x-python",
   "name": "python",
   "nbconvert_exporter": "python",
   "pygments_lexer": "ipython3",
   "version": "3.10.9"
  }
 },
 "nbformat": 4,
 "nbformat_minor": 5
}
