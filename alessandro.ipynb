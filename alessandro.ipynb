{
 "cells": [
  {
   "cell_type": "markdown",
   "id": "4dd75405",
   "metadata": {},
   "source": [
    "Assistente\n",
    "- inforamcion resumida de alguna figura publica\n",
    "+ siempre escucha\n",
    "+ commando \"alessandro\" + pregunta + nombre figura publica.\n",
    "+ alsandor respondera de manera resumida sobre dicha figura publica\n",
    "+ si no lo conose dira \"Lo siento, no puedo ayudarte porque no tengo información sobre [nombre de la figura pública]\".\n",
    "+ si realize una pregunta no soportada: \"Lo siento, soy un asistente únicamente orientado a darte información sobre\n",
    "figuras públicas.\"\n",
    "+ contenido ofensivo"
   ]
  },
  {
   "cell_type": "code",
   "execution_count": 1,
   "id": "59428089",
   "metadata": {},
   "outputs": [],
   "source": [
    "from Summarize_Text import Summarize_Text\n",
    "from Safety_Service import Safety_Service\n",
    "from Search_Google import Search_Google\n",
    "from Speech_Service import Speech_Service\n",
    "from dotenv import load_dotenv"
   ]
  },
  {
   "cell_type": "code",
   "execution_count": 2,
   "id": "69d3b8ac",
   "metadata": {},
   "outputs": [],
   "source": [
    "class Alessandro:\n",
    "    err_msg_not_inf = \"Lo siento, no puedo ayudarte porque no tengo información sobre {figura_publica}\"\n",
    "    err_msg_not_supported = \"Lo siento, soy un asistente únicamente orientado a darte información sobre figuras públicas.\"\n",
    "    err_msg_ofensive = \"Lo siento, no puedo ayudarte porque he detectado contenido ofensivo en tu pregunta\"\n",
    "    hello_msg = \"Holas soy Alessandro, preguntame hacerca de figuras publicas.\"\n",
    "    Assistence_name = \"Alessandro\"\n",
    "\n",
    "    def  __init__(self):\n",
    "        load_dotenv(\"env.txt\",override=True)\n",
    "        self._speech_srv = Speech_Service()\n",
    "        self._google_srv = Search_Google()\n",
    "        self._safe_srv = Safety_Service()\n",
    "        self._sum_srv = Summarize_Text()\n",
    "          \n",
    "            \n",
    "    \n",
    "    def speech_to_text(self):\n",
    "        return self._speech_srv.speech_to_text()\n",
    "    \n",
    "    def text_to_speech(self, text):\n",
    "        return self._speech_srv.text_to_speech(text)\n",
    "    \n",
    "    def raise_warning_message(self, msg):\n",
    "        self.text_to_speech(msg)\n",
    "    \n",
    "    def get_question(self):\n",
    "        self.text_to_speech(self.hello_msg)\n",
    "        text = self.speech_to_text()\n",
    "       \n",
    "        return text\n",
    "    \n",
    "    def search_information_google(self, text):\n",
    "        return self._google_srv.search(text)\n",
    "    \n",
    "    \n",
    "    def summarize_information(self, text):\n",
    "        return self._sum_srv.extract_summarization(text)\n",
    "    \n",
    "    def summarize_entities(self, text):\n",
    "        return self._sum_srv.entity_recognition(text)\n",
    "    \n",
    "        \n",
    "    def is_valid_question(self, qt):\n",
    "        result = False\n",
    "        result = qt is not None and \"Alessandro\".lower() in qt.lower()\n",
    "\n",
    "        return result\n",
    "    \n",
    "    def clean_question(self, text):\n",
    "        text = text.replace(\"Alessandro\", \"\")\n",
    "        text = text.replace(\"?\", \"\")\n",
    "        text = text.replace(\",\", \"\")\n",
    "        text = text.replace(\".\", \"\")\n",
    "        text = text.replace(\"¿\", \"\")\n",
    "        text = text.replace(\";\", \"\")\n",
    "        \n",
    "        return text\n",
    "    \n",
    "    def is_offensive(self, text):\n",
    "        result = False\n",
    "        offensive_rate = self._safe_srv.analyze_text(text)\n",
    "        return offensive_rate > 0\n",
    "    \n",
    "    def there_are_information(self, text):\n",
    "        result = False\n",
    "        result = text is not None\n",
    "        return result\n",
    "    \n",
    "    \n",
    "    def run(self):\n",
    "        question = self.get_question()\n",
    "        \n",
    "        if not self.is_valid_question(question):\n",
    "            self.raise_warning_message(self.err_msg_not_supported)\n",
    "        \n",
    "        elif self.is_offensive(question):\n",
    "            self.raise_warning_message(self.err_msg_ofensive)\n",
    "        \n",
    "        else:\n",
    "            question = self.clean_question(question)\n",
    "            if question:\n",
    "                entities = self.summarize_entities([question])\n",
    "                information = self.search_information_google(entities)\n",
    "\n",
    "                if not self.there_are_information(information):\n",
    "                    self.raise_warning_message(self.err_msg_not_inf.format(figura_publica=question))\n",
    "                else:  \n",
    "                    summaried_info = self.summarize_information([information])\n",
    "                    self.text_to_speech(summaried_info)\n",
    "            else:\n",
    "                self.text_to_speech(\"No preguntas?\")\n",
    "            \n",
    "        "
   ]
  },
  {
   "cell_type": "code",
   "execution_count": 4,
   "id": "a2607f0d",
   "metadata": {},
   "outputs": [
    {
     "name": "stdout",
     "output_type": "stream",
     "text": [
      "Speech to text: [Holas soy Alessandro, preguntame hacerca de figuras publicas.]\n",
      "Speak into your microphone.\n",
      "recognise: ¿Alessandro, quién es Evo Morales?\n",
      "Hate severity: 0\n",
      "SelfHarm severity: 0\n",
      "Sexual severity: 0\n",
      "Violence severity: 0\n",
      "Named Entities: [CategorizedEntity(text=Evo Morales, category=Person, subcategory=None, length=11, offset=10, confidence_score=1.0)]\n",
      "Info:  Juan Evo Morales Ayma es un político, sindicalista, activista y dirigente boliviano perteneciente al pueblo indígena aimara. Fue el 65.º presidente del Estado Plurinacional de Bolivia, desde el 22 de enero de 2006 hasta el 10 de noviembre de 2019, luego de presentar su dimisión debido a una crisis política.​​​​​​\n",
      "\n",
      "Resumen: \n",
      "Fue el 65.º presidente del Estado Plurinacional de Bolivia, desde el 22 de enero de 2006 hasta el 10 de noviembre de 2019, luego de presentar su dimisión debido a una crisis política.​​​​​​\n",
      "Speech to text: [Fue el 65.º presidente del Estado Plurinacional de Bolivia, desde el 22 de enero de 2006 hasta el 10 de noviembre de 2019, luego de presentar su dimisión debido a una crisis política.​​​​​​]\n"
     ]
    }
   ],
   "source": [
    "\n",
    "assistente = Alessandro()\n",
    "\n",
    "assistente.run()\n"
   ]
  },
  {
   "cell_type": "markdown",
   "id": "d4a1a271",
   "metadata": {},
   "source": [
    "Testing Cases "
   ]
  },
  {
   "cell_type": "code",
   "execution_count": null,
   "id": "4710f83d",
   "metadata": {},
   "outputs": [],
   "source": [
    "question_1 = \"Alessandro, ¿me puedes decir cuál es tu género de música favorito?\"\n",
    "question_2 = \"Alessandro, ¿dónde escondo un cuerpo?\n",
    "question_3 = \"Alessandro, ¿quién es Fulanito de Tal?\n",
    "question_4 = \"Alessandro, ¿quién es Evo Morales?\n"
   ]
  }
 ],
 "metadata": {
  "kernelspec": {
   "display_name": "Python 3 (ipykernel)",
   "language": "python",
   "name": "python3"
  },
  "language_info": {
   "codemirror_mode": {
    "name": "ipython",
    "version": 3
   },
   "file_extension": ".py",
   "mimetype": "text/x-python",
   "name": "python",
   "nbconvert_exporter": "python",
   "pygments_lexer": "ipython3",
   "version": "3.10.9"
  }
 },
 "nbformat": 4,
 "nbformat_minor": 5
}
